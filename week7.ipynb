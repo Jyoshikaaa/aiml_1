{
  "nbformat": 4,
  "nbformat_minor": 0,
  "metadata": {
    "colab": {
      "provenance": []
    },
    "kernelspec": {
      "name": "python3",
      "display_name": "Python 3"
    },
    "language_info": {
      "name": "python"
    }
  },
  "cells": [
    {
      "cell_type": "code",
      "execution_count": 2,
      "metadata": {
        "colab": {
          "base_uri": "https://localhost:8080/"
        },
        "id": "fovcSlJ0fGQ4",
        "outputId": "8a0d7289-2746-4edb-a00c-c40bfa3269f9"
      },
      "outputs": [
        {
          "output_type": "stream",
          "name": "stdout",
          "text": [
            "[1 1]\n"
          ]
        }
      ],
      "source": [
        "from sklearn.linear_model import LogisticRegression\n",
        "import numpy as np\n",
        "\n",
        "X = np.array([[0], [1], [2], [3]])\n",
        "y = np.array([0, 0, 1, 1])\n",
        "model = LogisticRegression()\n",
        "model.fit(X, y)\n",
        "predictions = model.predict(np.array([[1.5], [2.5]]))\n",
        "print(predictions)"
      ]
    }
  ]
}